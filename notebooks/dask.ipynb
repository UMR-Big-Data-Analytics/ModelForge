{
 "cells": [
  {
   "cell_type": "code",
   "execution_count": null,
   "id": "initial_id",
   "metadata": {
    "collapsed": true,
    "ExecuteTime": {
     "end_time": "2024-02-15T11:11:47.104104Z",
     "start_time": "2024-02-15T11:11:47.099580Z"
    }
   },
   "outputs": [],
   "source": []
  },
  {
   "cell_type": "code",
   "outputs": [],
   "source": [
    "import pandas as pd\n",
    "import dask.dataframe as dd\n",
    "df = pd.DataFrame({'model_device_uuid': ['6B2CDC0F-12FC-4956-9321-C69DBEF091E2'  ,'37B165CF-51C8-4081-9ED4-A2E43298135D'],\n",
    "                   'test_set_device_uuid':['6B2CDC0F-12FC-4956-9321-C69DBEF091E2'  ,'37B165CF-51C8-4081-9ED4-A2E43298135D']})\n",
    "ddf = dd.from_pandas(df, npartitions=2)"
   ],
   "metadata": {
    "collapsed": false,
    "ExecuteTime": {
     "end_time": "2024-02-15T11:11:47.738016Z",
     "start_time": "2024-02-15T11:11:47.102448Z"
    }
   },
   "id": "a764a20c6d1d32b5",
   "execution_count": 1
  },
  {
   "cell_type": "code",
   "outputs": [],
   "source": [
    "#ddf.compute()"
   ],
   "metadata": {
    "collapsed": false,
    "ExecuteTime": {
     "end_time": "2024-02-15T11:11:47.778139Z",
     "start_time": "2024-02-15T11:11:47.748154Z"
    }
   },
   "id": "72cffb2c6eec351b",
   "execution_count": 2
  },
  {
   "cell_type": "code",
   "outputs": [
    {
     "name": "stdout",
     "output_type": "stream",
     "text": [
      "model_device_uuid       6B2CDC0F-12FC-4956-9321-C69DBEF091E2\n",
      "test_set_device_uuid    6B2CDC0F-12FC-4956-9321-C69DBEF091E2\n",
      "Name: 0, dtype: string\n",
      "model_device_uuid       37B165CF-51C8-4081-9ED4-A2E43298135D\n",
      "test_set_device_uuid    37B165CF-51C8-4081-9ED4-A2E43298135D\n",
      "Name: 1, dtype: string\n"
     ]
    },
    {
     "data": {
      "text/plain": "0    1\n1    1\ndtype: int64"
     },
     "execution_count": 3,
     "metadata": {},
     "output_type": "execute_result"
    }
   ],
   "source": [
    "def myadd(row,):\n",
    "    print(row)\n",
    "    return 1\n",
    "ddf.apply(myadd, axis=1, meta=(None, 'int64')).compute()\n"
   ],
   "metadata": {
    "collapsed": false,
    "ExecuteTime": {
     "end_time": "2024-02-15T11:11:47.894610Z",
     "start_time": "2024-02-15T11:11:47.801996Z"
    }
   },
   "id": "d06389611709eb6e",
   "execution_count": 3
  },
  {
   "cell_type": "code",
   "outputs": [],
   "source": [],
   "metadata": {
    "collapsed": false,
    "ExecuteTime": {
     "end_time": "2024-02-15T11:11:47.896946Z",
     "start_time": "2024-02-15T11:11:47.894602Z"
    }
   },
   "id": "3a73b4929589c452",
   "execution_count": 3
  }
 ],
 "metadata": {
  "kernelspec": {
   "display_name": "Python 3",
   "language": "python",
   "name": "python3"
  },
  "language_info": {
   "codemirror_mode": {
    "name": "ipython",
    "version": 2
   },
   "file_extension": ".py",
   "mimetype": "text/x-python",
   "name": "python",
   "nbconvert_exporter": "python",
   "pygments_lexer": "ipython2",
   "version": "2.7.6"
  }
 },
 "nbformat": 4,
 "nbformat_minor": 5
}
