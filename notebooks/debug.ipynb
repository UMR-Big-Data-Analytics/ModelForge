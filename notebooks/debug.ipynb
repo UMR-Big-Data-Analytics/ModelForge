{
 "cells": [
  {
   "cell_type": "code",
   "execution_count": 1,
   "id": "initial_id",
   "metadata": {
    "collapsed": true,
    "ExecuteTime": {
     "end_time": "2024-02-09T13:43:46.717644Z",
     "start_time": "2024-02-09T13:43:46.209879Z"
    }
   },
   "outputs": [],
   "source": [
    "import pandas as pd"
   ]
  },
  {
   "cell_type": "code",
   "outputs": [],
   "source": [
    "adf_df = pd.read_parquet(\"../data/raw/models_20240101/device_uuid=4434CBDD-6755-4BC6-BB2A-D4B868D05DC0\")"
   ],
   "metadata": {
    "collapsed": false,
    "ExecuteTime": {
     "end_time": "2024-02-09T13:43:47.161846Z",
     "start_time": "2024-02-09T13:43:47.127174Z"
    }
   },
   "id": "309c5ccff7ecb328",
   "execution_count": 2
  },
  {
   "cell_type": "code",
   "outputs": [],
   "source": [
    "import joblib\n",
    "\n",
    "model_dict = joblib.load(\"../data/processed/models/4434CBDD-6755-4BC6-BB2A-D4B868D05DC0.pkl\")"
   ],
   "metadata": {
    "collapsed": false,
    "ExecuteTime": {
     "end_time": "2024-02-09T13:43:48.821827Z",
     "start_time": "2024-02-09T13:43:47.955689Z"
    }
   },
   "id": "44c46589d5e7e63c",
   "execution_count": 3
  },
  {
   "cell_type": "code",
   "outputs": [
    {
     "data": {
      "text/plain": "(datetime.date(2020, 7, 21), datetime.date(2024, 1, 1))"
     },
     "execution_count": 4,
     "metadata": {},
     "output_type": "execute_result"
    }
   ],
   "source": [
    "adf_df.feature_date.min(), adf_df.feature_date.max()"
   ],
   "metadata": {
    "collapsed": false,
    "ExecuteTime": {
     "end_time": "2024-02-09T13:43:49.414331Z",
     "start_time": "2024-02-09T13:43:49.402312Z"
    }
   },
   "id": "6de82e10f63598a0",
   "execution_count": 4
  },
  {
   "cell_type": "code",
   "outputs": [],
   "source": [
    "test_index = model_dict[\"model_params\"][\"test_index\"]"
   ],
   "metadata": {
    "collapsed": false,
    "ExecuteTime": {
     "end_time": "2024-02-09T13:43:50.597840Z",
     "start_time": "2024-02-09T13:43:50.592359Z"
    }
   },
   "id": "52c3441230cf2b95",
   "execution_count": 5
  },
  {
   "cell_type": "code",
   "outputs": [
    {
     "data": {
      "text/plain": "(13,)"
     },
     "execution_count": 6,
     "metadata": {},
     "output_type": "execute_result"
    }
   ],
   "source": [
    "test_index.shape"
   ],
   "metadata": {
    "collapsed": false,
    "ExecuteTime": {
     "end_time": "2024-02-09T13:43:51.741351Z",
     "start_time": "2024-02-09T13:43:51.732517Z"
    }
   },
   "id": "7872a883594c4651",
   "execution_count": 6
  },
  {
   "cell_type": "code",
   "outputs": [],
   "source": [],
   "metadata": {
    "collapsed": false,
    "ExecuteTime": {
     "end_time": "2024-02-09T13:43:52.571006Z",
     "start_time": "2024-02-09T13:43:52.557242Z"
    }
   },
   "id": "f6bf44d373968090",
   "execution_count": 6
  },
  {
   "cell_type": "code",
   "outputs": [],
   "source": [
    "from src.remote_service_algorithms.models.heating_consumption import generate_feature_dataset\n",
    "\n",
    "df = generate_feature_dataset(adf_df)"
   ],
   "metadata": {
    "collapsed": false,
    "ExecuteTime": {
     "end_time": "2024-02-09T13:43:53.174830Z",
     "start_time": "2024-02-09T13:43:53.105023Z"
    }
   },
   "id": "ec22a5e1b70c53a",
   "execution_count": 7
  },
  {
   "cell_type": "code",
   "outputs": [
    {
     "data": {
      "text/plain": "feature_name       date  average_outside_temperature  \\\n10           2023-08-23                    19.007968   \n14           2023-09-06                    22.677291   \n15           2023-09-07                    22.589823   \n20           2023-09-12                    20.142774   \n26           2023-09-18                    19.698769   \n33           2023-09-25                    15.516335   \n38           2023-09-30                    13.691307   \n42           2023-10-04                    13.230424   \n49           2023-10-11                    17.625969   \n50           2023-10-12                    15.487215   \n55           2023-12-01                    -1.078884   \n66           2023-12-23                     8.734806   \n67           2023-12-24                    10.930786   \n\nfeature_name  config_weather_controlled_regulation  e3_gas_device  \\\n10                                             1.0            1.0   \n14                                             1.0            1.0   \n15                                             1.0            1.0   \n20                                             1.0            1.0   \n26                                             1.0            1.0   \n33                                             1.0            1.0   \n38                                             1.0            1.0   \n42                                             1.0            1.0   \n49                                             1.0            1.0   \n50                                             1.0            1.0   \n55                                             1.0            1.0   \n66                                             1.0            1.0   \n67                                             1.0            1.0   \n\nfeature_name  consumption_heating  mean_target_supply_hc_0  \\\n10                            0.0                 0.000000   \n14                            0.0                 0.000000   \n15                            0.0                 0.000000   \n20                            0.0                 0.000000   \n26                            0.0                 0.000000   \n33                            0.0                 0.000000   \n38                            0.0                 0.000000   \n42                            0.0                 0.000000   \n49                            0.0                 0.000000   \n50                            0.0                 0.000000   \n55                            6.8                32.572365   \n66                            3.4                25.373282   \n67                            2.5                23.569138   \n\nfeature_name  diff_outside_temperature_1day  diff_outside_temperature_2day  \\\n10                                -0.547084                      -1.855704   \n14                                 0.630496                       4.360123   \n15                                -0.087468                       0.543028   \n20                                -3.107968                      -2.586780   \n26                                -0.144259                       0.351322   \n33                                 1.716769                       2.325498   \n38                                -3.797791                      -4.147302   \n42                                -2.941978                      -5.447374   \n49                                 0.904419                       1.304853   \n50                                -2.138754                      -1.234335   \n55                                -1.352662                      -2.456465   \n66                                 1.739116                       0.061789   \n67                                 2.195980                       3.935096   \n\nfeature_name  consumption_estimation  week_y  \n10                          0.000000 -0.5681  \n14                          0.000000 -0.3546  \n15                          0.000000 -0.3546  \n20                          0.000000 -0.2393  \n26                          0.000000 -0.1205  \n33                          0.000000 -0.0000  \n38                          0.000000 -0.0000  \n42                          0.000000  0.1205  \n49                          0.000000  0.2393  \n50                          0.000000  0.2393  \n55                         18.806846  0.8855  \n66                          5.419883  0.9927  \n67                          3.254462  0.9927  ",
      "text/html": "<div>\n<style scoped>\n    .dataframe tbody tr th:only-of-type {\n        vertical-align: middle;\n    }\n\n    .dataframe tbody tr th {\n        vertical-align: top;\n    }\n\n    .dataframe thead th {\n        text-align: right;\n    }\n</style>\n<table border=\"1\" class=\"dataframe\">\n  <thead>\n    <tr style=\"text-align: right;\">\n      <th>feature_name</th>\n      <th>date</th>\n      <th>average_outside_temperature</th>\n      <th>config_weather_controlled_regulation</th>\n      <th>e3_gas_device</th>\n      <th>consumption_heating</th>\n      <th>mean_target_supply_hc_0</th>\n      <th>diff_outside_temperature_1day</th>\n      <th>diff_outside_temperature_2day</th>\n      <th>consumption_estimation</th>\n      <th>week_y</th>\n    </tr>\n  </thead>\n  <tbody>\n    <tr>\n      <th>10</th>\n      <td>2023-08-23</td>\n      <td>19.007968</td>\n      <td>1.0</td>\n      <td>1.0</td>\n      <td>0.0</td>\n      <td>0.000000</td>\n      <td>-0.547084</td>\n      <td>-1.855704</td>\n      <td>0.000000</td>\n      <td>-0.5681</td>\n    </tr>\n    <tr>\n      <th>14</th>\n      <td>2023-09-06</td>\n      <td>22.677291</td>\n      <td>1.0</td>\n      <td>1.0</td>\n      <td>0.0</td>\n      <td>0.000000</td>\n      <td>0.630496</td>\n      <td>4.360123</td>\n      <td>0.000000</td>\n      <td>-0.3546</td>\n    </tr>\n    <tr>\n      <th>15</th>\n      <td>2023-09-07</td>\n      <td>22.589823</td>\n      <td>1.0</td>\n      <td>1.0</td>\n      <td>0.0</td>\n      <td>0.000000</td>\n      <td>-0.087468</td>\n      <td>0.543028</td>\n      <td>0.000000</td>\n      <td>-0.3546</td>\n    </tr>\n    <tr>\n      <th>20</th>\n      <td>2023-09-12</td>\n      <td>20.142774</td>\n      <td>1.0</td>\n      <td>1.0</td>\n      <td>0.0</td>\n      <td>0.000000</td>\n      <td>-3.107968</td>\n      <td>-2.586780</td>\n      <td>0.000000</td>\n      <td>-0.2393</td>\n    </tr>\n    <tr>\n      <th>26</th>\n      <td>2023-09-18</td>\n      <td>19.698769</td>\n      <td>1.0</td>\n      <td>1.0</td>\n      <td>0.0</td>\n      <td>0.000000</td>\n      <td>-0.144259</td>\n      <td>0.351322</td>\n      <td>0.000000</td>\n      <td>-0.1205</td>\n    </tr>\n    <tr>\n      <th>33</th>\n      <td>2023-09-25</td>\n      <td>15.516335</td>\n      <td>1.0</td>\n      <td>1.0</td>\n      <td>0.0</td>\n      <td>0.000000</td>\n      <td>1.716769</td>\n      <td>2.325498</td>\n      <td>0.000000</td>\n      <td>-0.0000</td>\n    </tr>\n    <tr>\n      <th>38</th>\n      <td>2023-09-30</td>\n      <td>13.691307</td>\n      <td>1.0</td>\n      <td>1.0</td>\n      <td>0.0</td>\n      <td>0.000000</td>\n      <td>-3.797791</td>\n      <td>-4.147302</td>\n      <td>0.000000</td>\n      <td>-0.0000</td>\n    </tr>\n    <tr>\n      <th>42</th>\n      <td>2023-10-04</td>\n      <td>13.230424</td>\n      <td>1.0</td>\n      <td>1.0</td>\n      <td>0.0</td>\n      <td>0.000000</td>\n      <td>-2.941978</td>\n      <td>-5.447374</td>\n      <td>0.000000</td>\n      <td>0.1205</td>\n    </tr>\n    <tr>\n      <th>49</th>\n      <td>2023-10-11</td>\n      <td>17.625969</td>\n      <td>1.0</td>\n      <td>1.0</td>\n      <td>0.0</td>\n      <td>0.000000</td>\n      <td>0.904419</td>\n      <td>1.304853</td>\n      <td>0.000000</td>\n      <td>0.2393</td>\n    </tr>\n    <tr>\n      <th>50</th>\n      <td>2023-10-12</td>\n      <td>15.487215</td>\n      <td>1.0</td>\n      <td>1.0</td>\n      <td>0.0</td>\n      <td>0.000000</td>\n      <td>-2.138754</td>\n      <td>-1.234335</td>\n      <td>0.000000</td>\n      <td>0.2393</td>\n    </tr>\n    <tr>\n      <th>55</th>\n      <td>2023-12-01</td>\n      <td>-1.078884</td>\n      <td>1.0</td>\n      <td>1.0</td>\n      <td>6.8</td>\n      <td>32.572365</td>\n      <td>-1.352662</td>\n      <td>-2.456465</td>\n      <td>18.806846</td>\n      <td>0.8855</td>\n    </tr>\n    <tr>\n      <th>66</th>\n      <td>2023-12-23</td>\n      <td>8.734806</td>\n      <td>1.0</td>\n      <td>1.0</td>\n      <td>3.4</td>\n      <td>25.373282</td>\n      <td>1.739116</td>\n      <td>0.061789</td>\n      <td>5.419883</td>\n      <td>0.9927</td>\n    </tr>\n    <tr>\n      <th>67</th>\n      <td>2023-12-24</td>\n      <td>10.930786</td>\n      <td>1.0</td>\n      <td>1.0</td>\n      <td>2.5</td>\n      <td>23.569138</td>\n      <td>2.195980</td>\n      <td>3.935096</td>\n      <td>3.254462</td>\n      <td>0.9927</td>\n    </tr>\n  </tbody>\n</table>\n</div>"
     },
     "execution_count": 8,
     "metadata": {},
     "output_type": "execute_result"
    }
   ],
   "source": [
    "df[df.index.isin(test_index)]"
   ],
   "metadata": {
    "collapsed": false,
    "ExecuteTime": {
     "end_time": "2024-02-09T13:43:55.323002Z",
     "start_time": "2024-02-09T13:43:55.305356Z"
    }
   },
   "id": "c0c0045210cf0f74",
   "execution_count": 8
  },
  {
   "cell_type": "code",
   "outputs": [
    {
     "data": {
      "text/plain": "[24, 66, 65, 53, 45, 29, 43, 44, 50, 12, 7, 23, 39]"
     },
     "execution_count": 27,
     "metadata": {},
     "output_type": "execute_result"
    }
   ],
   "source": [
    "test_index.tolist()"
   ],
   "metadata": {
    "collapsed": false,
    "ExecuteTime": {
     "end_time": "2024-02-09T13:38:14.766042Z",
     "start_time": "2024-02-09T13:38:14.756634Z"
    }
   },
   "id": "69ae457d1b34fed2",
   "execution_count": 27
  },
  {
   "cell_type": "code",
   "outputs": [
    {
     "data": {
      "text/plain": "Index([ 78, 118, 119, 123, 125, 134, 143, 149, 176, 188, 197, 198, 205, 207,\n       211, 212, 213, 214, 215, 216, 217, 218, 219, 220, 221, 222, 223, 224,\n       225, 226, 227, 228, 229, 230, 231, 232, 233, 234, 235, 236, 237, 238,\n       239, 240, 241, 242, 243, 244, 245, 246, 247, 248, 294, 295, 296, 297,\n       298, 299, 300, 301, 302, 303, 304, 305, 317, 318, 319, 320, 328],\n      dtype='int64')"
     },
     "execution_count": 24,
     "metadata": {},
     "output_type": "execute_result"
    }
   ],
   "source": [
    "df.index"
   ],
   "metadata": {
    "collapsed": false,
    "ExecuteTime": {
     "end_time": "2024-02-09T13:37:52.996983Z",
     "start_time": "2024-02-09T13:37:52.990740Z"
    }
   },
   "id": "dcd4a49f60ab845a",
   "execution_count": 24
  },
  {
   "cell_type": "code",
   "outputs": [
    {
     "name": "stdout",
     "output_type": "stream",
     "text": [
      "0\n",
      "continue\n",
      "continue\n",
      "continue\n",
      "['date', 'average_outside_temperature', 'e3_gas_device', 'consumption_heating', 'mean_target_supply_hc_0', 'average_indoor_temperature_hc_0', 'diff_outside_temperature_1day', 'diff_outside_temperature_2day']\n"
     ]
    },
    {
     "data": {
      "text/plain": "Index(['date', 'average_outside_temperature', 'e3_gas_device',\n       'consumption_heating', 'mean_target_supply_hc_0',\n       'diff_outside_temperature_1day', 'diff_outside_temperature_2day',\n       'consumption_estimation', 'week_y'],\n      dtype='object', name='feature_name')"
     },
     "execution_count": 5,
     "metadata": {},
     "output_type": "execute_result"
    }
   ],
   "source": [
    "from src.remote_service_algorithms.models.heating_consumption import keep_days_with_matching_active_hcs, \\\n",
    "    consumption_data_available, weather_temperature_available, prepare_data, pivot_dataframe\n",
    "\n",
    "active_hcs_current, adf_df = keep_days_with_matching_active_hcs(adf_df)\n",
    "\n",
    "consumption_available, adf_df = consumption_data_available(adf_df)\n",
    "weather_data_available, adf_df = weather_temperature_available(adf_df)\n",
    "\n",
    "df = pivot_dataframe(adf_df)\n",
    "df = prepare_data(df, weather_controlled=False)\n",
    "df.columns\n"
   ],
   "metadata": {
    "collapsed": false,
    "ExecuteTime": {
     "end_time": "2024-02-09T11:29:21.820161Z",
     "start_time": "2024-02-09T11:29:21.778696Z"
    }
   },
   "id": "b1dadf7e941ca51c",
   "execution_count": 5
  }
 ],
 "metadata": {
  "kernelspec": {
   "display_name": "Python 3",
   "language": "python",
   "name": "python3"
  },
  "language_info": {
   "codemirror_mode": {
    "name": "ipython",
    "version": 2
   },
   "file_extension": ".py",
   "mimetype": "text/x-python",
   "name": "python",
   "nbconvert_exporter": "python",
   "pygments_lexer": "ipython2",
   "version": "2.7.6"
  }
 },
 "nbformat": 4,
 "nbformat_minor": 5
}
